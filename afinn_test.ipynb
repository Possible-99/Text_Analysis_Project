{
  "nbformat": 4,
  "nbformat_minor": 0,
  "metadata": {
    "colab": {
      "name": "afinn_test.ipynb",
      "provenance": [],
      "collapsed_sections": [],
      "authorship_tag": "ABX9TyNtzcBx1czeVbna7bQaIW13",
      "include_colab_link": true
    },
    "kernelspec": {
      "name": "python3",
      "display_name": "Python 3"
    },
    "language_info": {
      "name": "python"
    }
  },
  "cells": [
    {
      "cell_type": "markdown",
      "metadata": {
        "id": "view-in-github",
        "colab_type": "text"
      },
      "source": [
        "<a href=\"https://colab.research.google.com/github/ricardo-casa/Text_Analysis_Project/blob/main/afinn_test.ipynb\" target=\"_parent\"><img src=\"https://colab.research.google.com/assets/colab-badge.svg\" alt=\"Open In Colab\"/></a>"
      ]
    },
    {
      "cell_type": "code",
      "source": [
        "pip install afinn"
      ],
      "metadata": {
        "id": "O7Ed-ZinUmx2",
        "colab": {
          "base_uri": "https://localhost:8080/"
        },
        "outputId": "744727c3-4978-4fe1-897c-8705983c1426"
      },
      "execution_count": 3,
      "outputs": [
        {
          "output_type": "stream",
          "name": "stdout",
          "text": [
            "Looking in indexes: https://pypi.org/simple, https://us-python.pkg.dev/colab-wheels/public/simple/\n",
            "Collecting afinn\n",
            "  Downloading afinn-0.1.tar.gz (52 kB)\n",
            "\u001b[K     |████████████████████████████████| 52 kB 1.3 MB/s \n",
            "\u001b[?25hBuilding wheels for collected packages: afinn\n",
            "  Building wheel for afinn (setup.py) ... \u001b[?25l\u001b[?25hdone\n",
            "  Created wheel for afinn: filename=afinn-0.1-py3-none-any.whl size=53447 sha256=90d8c6ae5636f1a35df057618f26945bde7f6c6b4860ceb7936315d29518749b\n",
            "  Stored in directory: /root/.cache/pip/wheels/9d/16/3a/9f0953027434eab5dadf3f33ab3298fa95afa8292fcf7aba75\n",
            "Successfully built afinn\n",
            "Installing collected packages: afinn\n",
            "Successfully installed afinn-0.1\n"
          ]
        }
      ]
    },
    {
      "cell_type": "code",
      "source": [
        "from afinn import Afinn"
      ],
      "metadata": {
        "id": "eqZNqNfmAqUd"
      },
      "execution_count": 4,
      "outputs": []
    },
    {
      "cell_type": "code",
      "source": [
        "afinn = Afinn(language = 'en', emoticons=True) "
      ],
      "metadata": {
        "id": "SBLTE6XvAtV1"
      },
      "execution_count": 5,
      "outputs": []
    },
    {
      "cell_type": "code",
      "source": [
        "import pandas as pd"
      ],
      "metadata": {
        "id": "GJl01r3HCfK2"
      },
      "execution_count": 6,
      "outputs": []
    },
    {
      "cell_type": "code",
      "source": [
        "tweets_file = pd.read_csv(\"tweets.csv\",encoding = \"latin-1\")"
      ],
      "metadata": {
        "id": "mMtZwhnBItxa"
      },
      "execution_count": 10,
      "outputs": []
    },
    {
      "cell_type": "code",
      "source": [
        "tweets = tweets_file['text']\n",
        "tweets"
      ],
      "metadata": {
        "colab": {
          "base_uri": "https://localhost:8080/"
        },
        "id": "yP9V-pXYJKNu",
        "outputId": "97c460f9-6cfd-49f3-ceda-13a2cf58bc52"
      },
      "execution_count": 11,
      "outputs": [
        {
          "output_type": "execute_result",
          "data": {
            "text/plain": [
              "0       #AAPL:The 10 best Steve Jobs emails ever...htt...\n",
              "1       RT @JPDesloges: Why AAPL Stock Had a Mini-Flas...\n",
              "2       My cat only chews @apple cords. Such an #Apple...\n",
              "3       I agree with @jimcramer that the #IndividualIn...\n",
              "4            Nobody expects the Spanish Inquisition #AAPL\n",
              "                              ...                        \n",
              "3881    (Via FC) Apple Is Warming Up To Social Media -...\n",
              "3882    RT @MMLXIV: there is no avocado emoji may I as...\n",
              "3883    @marcbulandr I could not agree more. Between @...\n",
              "3884    My iPhone 5's photos are no longer downloading...\n",
              "3885    RT @SwiftKey: We're so excited to be named to ...\n",
              "Name: text, Length: 3886, dtype: object"
            ]
          },
          "metadata": {},
          "execution_count": 11
        }
      ]
    },
    {
      "cell_type": "code",
      "source": [
        "results = pd.DataFrame()\n",
        "score = []\n",
        "veredict = []"
      ],
      "metadata": {
        "id": "iSfREB-xJ_Ks"
      },
      "execution_count": 12,
      "outputs": []
    },
    {
      "cell_type": "code",
      "source": [
        "for tweet in tweets: \n",
        "  s = afinn.score(tweet)\n",
        "  score.append(s)\n",
        "  veredict.append(\"POSITIVE\") if s > 0 else  veredict.append(\"NEUTRAL\") if s == 0 else veredict.append(\"NEGATIVE\") "
      ],
      "metadata": {
        "id": "UJ_7WAp-KW_Z"
      },
      "execution_count": 13,
      "outputs": []
    },
    {
      "cell_type": "code",
      "source": [
        "#results for afinn\n",
        "results['tweet'] = tweets\n",
        "results['affin_score'] = score\n",
        "results['affin_veredict'] = veredict\n",
        "results['csv_score'] = tweets_file['sentiment']"
      ],
      "metadata": {
        "id": "FfoRdPszJtkN"
      },
      "execution_count": 14,
      "outputs": []
    },
    {
      "cell_type": "code",
      "source": [
        "results"
      ],
      "metadata": {
        "colab": {
          "base_uri": "https://localhost:8080/",
          "height": 424
        },
        "id": "pFkgRIW3GU-x",
        "outputId": "f17edc38-99a6-4611-ab10-4322f0818def"
      },
      "execution_count": 15,
      "outputs": [
        {
          "output_type": "execute_result",
          "data": {
            "text/plain": [
              "                                                  tweet  affin_score  \\\n",
              "0     #AAPL:The 10 best Steve Jobs emails ever...htt...          3.0   \n",
              "1     RT @JPDesloges: Why AAPL Stock Had a Mini-Flas...         -2.0   \n",
              "2     My cat only chews @apple cords. Such an #Apple...          0.0   \n",
              "3     I agree with @jimcramer that the #IndividualIn...          4.0   \n",
              "4          Nobody expects the Spanish Inquisition #AAPL         -2.0   \n",
              "...                                                 ...          ...   \n",
              "3881  (Via FC) Apple Is Warming Up To Social Media -...          0.0   \n",
              "3882  RT @MMLXIV: there is no avocado emoji may I as...         -1.0   \n",
              "3883  @marcbulandr I could not agree more. Between @...          4.0   \n",
              "3884  My iPhone 5's photos are no longer downloading...          1.0   \n",
              "3885  RT @SwiftKey: We're so excited to be named to ...          6.0   \n",
              "\n",
              "     affin_veredict csv_score  \n",
              "0          POSITIVE         3  \n",
              "1          NEGATIVE         3  \n",
              "2           NEUTRAL         3  \n",
              "3          POSITIVE         3  \n",
              "4          NEGATIVE         3  \n",
              "...             ...       ...  \n",
              "3881        NEUTRAL         3  \n",
              "3882       NEGATIVE         3  \n",
              "3883       POSITIVE         5  \n",
              "3884       POSITIVE         1  \n",
              "3885       POSITIVE         5  \n",
              "\n",
              "[3886 rows x 4 columns]"
            ],
            "text/html": [
              "\n",
              "  <div id=\"df-ea62862f-bb64-4f43-919e-c8a5518851ea\">\n",
              "    <div class=\"colab-df-container\">\n",
              "      <div>\n",
              "<style scoped>\n",
              "    .dataframe tbody tr th:only-of-type {\n",
              "        vertical-align: middle;\n",
              "    }\n",
              "\n",
              "    .dataframe tbody tr th {\n",
              "        vertical-align: top;\n",
              "    }\n",
              "\n",
              "    .dataframe thead th {\n",
              "        text-align: right;\n",
              "    }\n",
              "</style>\n",
              "<table border=\"1\" class=\"dataframe\">\n",
              "  <thead>\n",
              "    <tr style=\"text-align: right;\">\n",
              "      <th></th>\n",
              "      <th>tweet</th>\n",
              "      <th>affin_score</th>\n",
              "      <th>affin_veredict</th>\n",
              "      <th>csv_score</th>\n",
              "    </tr>\n",
              "  </thead>\n",
              "  <tbody>\n",
              "    <tr>\n",
              "      <th>0</th>\n",
              "      <td>#AAPL:The 10 best Steve Jobs emails ever...htt...</td>\n",
              "      <td>3.0</td>\n",
              "      <td>POSITIVE</td>\n",
              "      <td>3</td>\n",
              "    </tr>\n",
              "    <tr>\n",
              "      <th>1</th>\n",
              "      <td>RT @JPDesloges: Why AAPL Stock Had a Mini-Flas...</td>\n",
              "      <td>-2.0</td>\n",
              "      <td>NEGATIVE</td>\n",
              "      <td>3</td>\n",
              "    </tr>\n",
              "    <tr>\n",
              "      <th>2</th>\n",
              "      <td>My cat only chews @apple cords. Such an #Apple...</td>\n",
              "      <td>0.0</td>\n",
              "      <td>NEUTRAL</td>\n",
              "      <td>3</td>\n",
              "    </tr>\n",
              "    <tr>\n",
              "      <th>3</th>\n",
              "      <td>I agree with @jimcramer that the #IndividualIn...</td>\n",
              "      <td>4.0</td>\n",
              "      <td>POSITIVE</td>\n",
              "      <td>3</td>\n",
              "    </tr>\n",
              "    <tr>\n",
              "      <th>4</th>\n",
              "      <td>Nobody expects the Spanish Inquisition #AAPL</td>\n",
              "      <td>-2.0</td>\n",
              "      <td>NEGATIVE</td>\n",
              "      <td>3</td>\n",
              "    </tr>\n",
              "    <tr>\n",
              "      <th>...</th>\n",
              "      <td>...</td>\n",
              "      <td>...</td>\n",
              "      <td>...</td>\n",
              "      <td>...</td>\n",
              "    </tr>\n",
              "    <tr>\n",
              "      <th>3881</th>\n",
              "      <td>(Via FC) Apple Is Warming Up To Social Media -...</td>\n",
              "      <td>0.0</td>\n",
              "      <td>NEUTRAL</td>\n",
              "      <td>3</td>\n",
              "    </tr>\n",
              "    <tr>\n",
              "      <th>3882</th>\n",
              "      <td>RT @MMLXIV: there is no avocado emoji may I as...</td>\n",
              "      <td>-1.0</td>\n",
              "      <td>NEGATIVE</td>\n",
              "      <td>3</td>\n",
              "    </tr>\n",
              "    <tr>\n",
              "      <th>3883</th>\n",
              "      <td>@marcbulandr I could not agree more. Between @...</td>\n",
              "      <td>4.0</td>\n",
              "      <td>POSITIVE</td>\n",
              "      <td>5</td>\n",
              "    </tr>\n",
              "    <tr>\n",
              "      <th>3884</th>\n",
              "      <td>My iPhone 5's photos are no longer downloading...</td>\n",
              "      <td>1.0</td>\n",
              "      <td>POSITIVE</td>\n",
              "      <td>1</td>\n",
              "    </tr>\n",
              "    <tr>\n",
              "      <th>3885</th>\n",
              "      <td>RT @SwiftKey: We're so excited to be named to ...</td>\n",
              "      <td>6.0</td>\n",
              "      <td>POSITIVE</td>\n",
              "      <td>5</td>\n",
              "    </tr>\n",
              "  </tbody>\n",
              "</table>\n",
              "<p>3886 rows × 4 columns</p>\n",
              "</div>\n",
              "      <button class=\"colab-df-convert\" onclick=\"convertToInteractive('df-ea62862f-bb64-4f43-919e-c8a5518851ea')\"\n",
              "              title=\"Convert this dataframe to an interactive table.\"\n",
              "              style=\"display:none;\">\n",
              "        \n",
              "  <svg xmlns=\"http://www.w3.org/2000/svg\" height=\"24px\"viewBox=\"0 0 24 24\"\n",
              "       width=\"24px\">\n",
              "    <path d=\"M0 0h24v24H0V0z\" fill=\"none\"/>\n",
              "    <path d=\"M18.56 5.44l.94 2.06.94-2.06 2.06-.94-2.06-.94-.94-2.06-.94 2.06-2.06.94zm-11 1L8.5 8.5l.94-2.06 2.06-.94-2.06-.94L8.5 2.5l-.94 2.06-2.06.94zm10 10l.94 2.06.94-2.06 2.06-.94-2.06-.94-.94-2.06-.94 2.06-2.06.94z\"/><path d=\"M17.41 7.96l-1.37-1.37c-.4-.4-.92-.59-1.43-.59-.52 0-1.04.2-1.43.59L10.3 9.45l-7.72 7.72c-.78.78-.78 2.05 0 2.83L4 21.41c.39.39.9.59 1.41.59.51 0 1.02-.2 1.41-.59l7.78-7.78 2.81-2.81c.8-.78.8-2.07 0-2.86zM5.41 20L4 18.59l7.72-7.72 1.47 1.35L5.41 20z\"/>\n",
              "  </svg>\n",
              "      </button>\n",
              "      \n",
              "  <style>\n",
              "    .colab-df-container {\n",
              "      display:flex;\n",
              "      flex-wrap:wrap;\n",
              "      gap: 12px;\n",
              "    }\n",
              "\n",
              "    .colab-df-convert {\n",
              "      background-color: #E8F0FE;\n",
              "      border: none;\n",
              "      border-radius: 50%;\n",
              "      cursor: pointer;\n",
              "      display: none;\n",
              "      fill: #1967D2;\n",
              "      height: 32px;\n",
              "      padding: 0 0 0 0;\n",
              "      width: 32px;\n",
              "    }\n",
              "\n",
              "    .colab-df-convert:hover {\n",
              "      background-color: #E2EBFA;\n",
              "      box-shadow: 0px 1px 2px rgba(60, 64, 67, 0.3), 0px 1px 3px 1px rgba(60, 64, 67, 0.15);\n",
              "      fill: #174EA6;\n",
              "    }\n",
              "\n",
              "    [theme=dark] .colab-df-convert {\n",
              "      background-color: #3B4455;\n",
              "      fill: #D2E3FC;\n",
              "    }\n",
              "\n",
              "    [theme=dark] .colab-df-convert:hover {\n",
              "      background-color: #434B5C;\n",
              "      box-shadow: 0px 1px 3px 1px rgba(0, 0, 0, 0.15);\n",
              "      filter: drop-shadow(0px 1px 2px rgba(0, 0, 0, 0.3));\n",
              "      fill: #FFFFFF;\n",
              "    }\n",
              "  </style>\n",
              "\n",
              "      <script>\n",
              "        const buttonEl =\n",
              "          document.querySelector('#df-ea62862f-bb64-4f43-919e-c8a5518851ea button.colab-df-convert');\n",
              "        buttonEl.style.display =\n",
              "          google.colab.kernel.accessAllowed ? 'block' : 'none';\n",
              "\n",
              "        async function convertToInteractive(key) {\n",
              "          const element = document.querySelector('#df-ea62862f-bb64-4f43-919e-c8a5518851ea');\n",
              "          const dataTable =\n",
              "            await google.colab.kernel.invokeFunction('convertToInteractive',\n",
              "                                                     [key], {});\n",
              "          if (!dataTable) return;\n",
              "\n",
              "          const docLinkHtml = 'Like what you see? Visit the ' +\n",
              "            '<a target=\"_blank\" href=https://colab.research.google.com/notebooks/data_table.ipynb>data table notebook</a>'\n",
              "            + ' to learn more about interactive tables.';\n",
              "          element.innerHTML = '';\n",
              "          dataTable['output_type'] = 'display_data';\n",
              "          await google.colab.output.renderOutput(dataTable, element);\n",
              "          const docLink = document.createElement('div');\n",
              "          docLink.innerHTML = docLinkHtml;\n",
              "          element.appendChild(docLink);\n",
              "        }\n",
              "      </script>\n",
              "    </div>\n",
              "  </div>\n",
              "  "
            ]
          },
          "metadata": {},
          "execution_count": 15
        }
      ]
    }
  ]
}